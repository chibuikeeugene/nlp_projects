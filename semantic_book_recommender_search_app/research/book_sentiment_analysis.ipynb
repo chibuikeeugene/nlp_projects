{
 "cells": [
  {
   "cell_type": "markdown",
   "metadata": {},
   "source": [
    "# Objective:: Classify texts in 7 different discrete emotions - (anger, disgust, fear, joy, surprise and neutral using LLM)"
   ]
  },
  {
   "cell_type": "code",
   "execution_count": 1,
   "metadata": {},
   "outputs": [],
   "source": [
    "# import libraries\n",
    "import pandas as pd\n",
    "import numpy as np\n",
    "from transformers import pipeline"
   ]
  },
  {
   "cell_type": "code",
   "execution_count": 2,
   "metadata": {},
   "outputs": [
    {
     "data": {
      "text/html": [
       "<div>\n",
       "<style scoped>\n",
       "    .dataframe tbody tr th:only-of-type {\n",
       "        vertical-align: middle;\n",
       "    }\n",
       "\n",
       "    .dataframe tbody tr th {\n",
       "        vertical-align: top;\n",
       "    }\n",
       "\n",
       "    .dataframe thead th {\n",
       "        text-align: right;\n",
       "    }\n",
       "</style>\n",
       "<table border=\"1\" class=\"dataframe\">\n",
       "  <thead>\n",
       "    <tr style=\"text-align: right;\">\n",
       "      <th></th>\n",
       "      <th>isbn13</th>\n",
       "      <th>isbn10</th>\n",
       "      <th>title</th>\n",
       "      <th>authors</th>\n",
       "      <th>categories</th>\n",
       "      <th>thumbnail</th>\n",
       "      <th>description</th>\n",
       "      <th>published_year</th>\n",
       "      <th>average_rating</th>\n",
       "      <th>num_pages</th>\n",
       "      <th>ratings_count</th>\n",
       "      <th>title_subtitle</th>\n",
       "      <th>tagged_desc</th>\n",
       "    </tr>\n",
       "  </thead>\n",
       "  <tbody>\n",
       "    <tr>\n",
       "      <th>0</th>\n",
       "      <td>9780002005883</td>\n",
       "      <td>0002005883</td>\n",
       "      <td>Gilead</td>\n",
       "      <td>Marilynne Robinson</td>\n",
       "      <td>Fiction</td>\n",
       "      <td>http://books.google.com/books/content?id=KQZCP...</td>\n",
       "      <td>A NOVEL THAT READERS and critics have been eag...</td>\n",
       "      <td>2004.0</td>\n",
       "      <td>3.85</td>\n",
       "      <td>247.0</td>\n",
       "      <td>361.0</td>\n",
       "      <td>Gilead</td>\n",
       "      <td>9780002005883 A NOVEL THAT READERS and critics...</td>\n",
       "    </tr>\n",
       "    <tr>\n",
       "      <th>1</th>\n",
       "      <td>9780002261982</td>\n",
       "      <td>0002261987</td>\n",
       "      <td>Spider's Web</td>\n",
       "      <td>Charles Osborne;Agatha Christie</td>\n",
       "      <td>Detective and mystery stories</td>\n",
       "      <td>http://books.google.com/books/content?id=gA5GP...</td>\n",
       "      <td>A new 'Christie for Christmas' -- a full-lengt...</td>\n",
       "      <td>2000.0</td>\n",
       "      <td>3.83</td>\n",
       "      <td>241.0</td>\n",
       "      <td>5164.0</td>\n",
       "      <td>Spider's Web:A Novel</td>\n",
       "      <td>9780002261982 A new 'Christie for Christmas' -...</td>\n",
       "    </tr>\n",
       "    <tr>\n",
       "      <th>2</th>\n",
       "      <td>9780006178736</td>\n",
       "      <td>0006178731</td>\n",
       "      <td>Rage of angels</td>\n",
       "      <td>Sidney Sheldon</td>\n",
       "      <td>Fiction</td>\n",
       "      <td>http://books.google.com/books/content?id=FKo2T...</td>\n",
       "      <td>A memorable, mesmerizing heroine Jennifer -- b...</td>\n",
       "      <td>1993.0</td>\n",
       "      <td>3.93</td>\n",
       "      <td>512.0</td>\n",
       "      <td>29532.0</td>\n",
       "      <td>Rage of angels</td>\n",
       "      <td>9780006178736 A memorable, mesmerizing heroine...</td>\n",
       "    </tr>\n",
       "    <tr>\n",
       "      <th>3</th>\n",
       "      <td>9780006280897</td>\n",
       "      <td>0006280897</td>\n",
       "      <td>The Four Loves</td>\n",
       "      <td>Clive Staples Lewis</td>\n",
       "      <td>Christian life</td>\n",
       "      <td>http://books.google.com/books/content?id=XhQ5X...</td>\n",
       "      <td>Lewis' work on the nature of love divides love...</td>\n",
       "      <td>2002.0</td>\n",
       "      <td>4.15</td>\n",
       "      <td>170.0</td>\n",
       "      <td>33684.0</td>\n",
       "      <td>The Four Loves</td>\n",
       "      <td>9780006280897 Lewis' work on the nature of lov...</td>\n",
       "    </tr>\n",
       "    <tr>\n",
       "      <th>4</th>\n",
       "      <td>9780006280934</td>\n",
       "      <td>0006280935</td>\n",
       "      <td>The Problem of Pain</td>\n",
       "      <td>Clive Staples Lewis</td>\n",
       "      <td>Christian life</td>\n",
       "      <td>http://books.google.com/books/content?id=Kk-uV...</td>\n",
       "      <td>\"In The Problem of Pain, C.S. Lewis, one of th...</td>\n",
       "      <td>2002.0</td>\n",
       "      <td>4.09</td>\n",
       "      <td>176.0</td>\n",
       "      <td>37569.0</td>\n",
       "      <td>The Problem of Pain</td>\n",
       "      <td>9780006280934 \"In The Problem of Pain, C.S. Le...</td>\n",
       "    </tr>\n",
       "  </tbody>\n",
       "</table>\n",
       "</div>"
      ],
      "text/plain": [
       "          isbn13      isbn10                title  \\\n",
       "0  9780002005883  0002005883               Gilead   \n",
       "1  9780002261982  0002261987         Spider's Web   \n",
       "2  9780006178736  0006178731       Rage of angels   \n",
       "3  9780006280897  0006280897       The Four Loves   \n",
       "4  9780006280934  0006280935  The Problem of Pain   \n",
       "\n",
       "                           authors                     categories  \\\n",
       "0               Marilynne Robinson                        Fiction   \n",
       "1  Charles Osborne;Agatha Christie  Detective and mystery stories   \n",
       "2                   Sidney Sheldon                        Fiction   \n",
       "3              Clive Staples Lewis                 Christian life   \n",
       "4              Clive Staples Lewis                 Christian life   \n",
       "\n",
       "                                           thumbnail  \\\n",
       "0  http://books.google.com/books/content?id=KQZCP...   \n",
       "1  http://books.google.com/books/content?id=gA5GP...   \n",
       "2  http://books.google.com/books/content?id=FKo2T...   \n",
       "3  http://books.google.com/books/content?id=XhQ5X...   \n",
       "4  http://books.google.com/books/content?id=Kk-uV...   \n",
       "\n",
       "                                         description  published_year  \\\n",
       "0  A NOVEL THAT READERS and critics have been eag...          2004.0   \n",
       "1  A new 'Christie for Christmas' -- a full-lengt...          2000.0   \n",
       "2  A memorable, mesmerizing heroine Jennifer -- b...          1993.0   \n",
       "3  Lewis' work on the nature of love divides love...          2002.0   \n",
       "4  \"In The Problem of Pain, C.S. Lewis, one of th...          2002.0   \n",
       "\n",
       "   average_rating  num_pages  ratings_count        title_subtitle  \\\n",
       "0            3.85      247.0          361.0                Gilead   \n",
       "1            3.83      241.0         5164.0  Spider's Web:A Novel   \n",
       "2            3.93      512.0        29532.0        Rage of angels   \n",
       "3            4.15      170.0        33684.0        The Four Loves   \n",
       "4            4.09      176.0        37569.0   The Problem of Pain   \n",
       "\n",
       "                                         tagged_desc  \n",
       "0  9780002005883 A NOVEL THAT READERS and critics...  \n",
       "1  9780002261982 A new 'Christie for Christmas' -...  \n",
       "2  9780006178736 A memorable, mesmerizing heroine...  \n",
       "3  9780006280897 Lewis' work on the nature of lov...  \n",
       "4  9780006280934 \"In The Problem of Pain, C.S. Le...  "
      ]
     },
     "execution_count": 2,
     "metadata": {},
     "output_type": "execute_result"
    }
   ],
   "source": [
    "# load the data\n",
    "df = pd.read_csv('books_cleaned.csv')\n",
    "df.head()"
   ]
  },
  {
   "cell_type": "code",
   "execution_count": 5,
   "metadata": {},
   "outputs": [
    {
     "data": {
      "text/plain": [
       "(Index(['isbn13', 'isbn10', 'title', 'authors', 'categories', 'thumbnail',\n",
       "        'description', 'published_year', 'average_rating', 'num_pages',\n",
       "        'ratings_count', 'title_subtitle', 'tagged_desc'],\n",
       "       dtype='object'),\n",
       " (5197, 13))"
      ]
     },
     "execution_count": 5,
     "metadata": {},
     "output_type": "execute_result"
    }
   ],
   "source": [
    "df.columns, df.shape"
   ]
  },
  {
   "cell_type": "code",
   "execution_count": null,
   "metadata": {},
   "outputs": [
    {
     "data": {
      "text/html": [
       "<div>\n",
       "<style scoped>\n",
       "    .dataframe tbody tr th:only-of-type {\n",
       "        vertical-align: middle;\n",
       "    }\n",
       "\n",
       "    .dataframe tbody tr th {\n",
       "        vertical-align: top;\n",
       "    }\n",
       "\n",
       "    .dataframe thead th {\n",
       "        text-align: right;\n",
       "    }\n",
       "</style>\n",
       "<table border=\"1\" class=\"dataframe\">\n",
       "  <thead>\n",
       "    <tr style=\"text-align: right;\">\n",
       "      <th></th>\n",
       "      <th>isbn13</th>\n",
       "      <th>categories</th>\n",
       "      <th>description</th>\n",
       "      <th>title_subtitle</th>\n",
       "      <th>tagged_desc</th>\n",
       "    </tr>\n",
       "  </thead>\n",
       "  <tbody>\n",
       "    <tr>\n",
       "      <th>0</th>\n",
       "      <td>9780002005883</td>\n",
       "      <td>Fiction</td>\n",
       "      <td>A NOVEL THAT READERS and critics have been eag...</td>\n",
       "      <td>Gilead</td>\n",
       "      <td>9780002005883 A NOVEL THAT READERS and critics...</td>\n",
       "    </tr>\n",
       "    <tr>\n",
       "      <th>1</th>\n",
       "      <td>9780002261982</td>\n",
       "      <td>Detective and mystery stories</td>\n",
       "      <td>A new 'Christie for Christmas' -- a full-lengt...</td>\n",
       "      <td>Spider's Web:A Novel</td>\n",
       "      <td>9780002261982 A new 'Christie for Christmas' -...</td>\n",
       "    </tr>\n",
       "    <tr>\n",
       "      <th>2</th>\n",
       "      <td>9780006178736</td>\n",
       "      <td>Fiction</td>\n",
       "      <td>A memorable, mesmerizing heroine Jennifer -- b...</td>\n",
       "      <td>Rage of angels</td>\n",
       "      <td>9780006178736 A memorable, mesmerizing heroine...</td>\n",
       "    </tr>\n",
       "    <tr>\n",
       "      <th>3</th>\n",
       "      <td>9780006280897</td>\n",
       "      <td>Christian life</td>\n",
       "      <td>Lewis' work on the nature of love divides love...</td>\n",
       "      <td>The Four Loves</td>\n",
       "      <td>9780006280897 Lewis' work on the nature of lov...</td>\n",
       "    </tr>\n",
       "    <tr>\n",
       "      <th>4</th>\n",
       "      <td>9780006280934</td>\n",
       "      <td>Christian life</td>\n",
       "      <td>\"In The Problem of Pain, C.S. Lewis, one of th...</td>\n",
       "      <td>The Problem of Pain</td>\n",
       "      <td>9780006280934 \"In The Problem of Pain, C.S. Le...</td>\n",
       "    </tr>\n",
       "  </tbody>\n",
       "</table>\n",
       "</div>"
      ],
      "text/plain": [
       "          isbn13                     categories  \\\n",
       "0  9780002005883                        Fiction   \n",
       "1  9780002261982  Detective and mystery stories   \n",
       "2  9780006178736                        Fiction   \n",
       "3  9780006280897                 Christian life   \n",
       "4  9780006280934                 Christian life   \n",
       "\n",
       "                                         description        title_subtitle  \\\n",
       "0  A NOVEL THAT READERS and critics have been eag...                Gilead   \n",
       "1  A new 'Christie for Christmas' -- a full-lengt...  Spider's Web:A Novel   \n",
       "2  A memorable, mesmerizing heroine Jennifer -- b...        Rage of angels   \n",
       "3  Lewis' work on the nature of love divides love...        The Four Loves   \n",
       "4  \"In The Problem of Pain, C.S. Lewis, one of th...   The Problem of Pain   \n",
       "\n",
       "                                         tagged_desc  \n",
       "0  9780002005883 A NOVEL THAT READERS and critics...  \n",
       "1  9780002261982 A new 'Christie for Christmas' -...  \n",
       "2  9780006178736 A memorable, mesmerizing heroine...  \n",
       "3  9780006280897 Lewis' work on the nature of lov...  \n",
       "4  9780006280934 \"In The Problem of Pain, C.S. Le...  "
      ]
     },
     "execution_count": 6,
     "metadata": {},
     "output_type": "execute_result"
    }
   ],
   "source": [
    "# to reduce computing time, we wil select just a 1000 records\n",
    "df = df[['isbn13','categories','description', 'title_subtitle', 'tagged_desc']]\n",
    "df.sample(n=1000, random_state=42)\n",
    "df.head()"
   ]
  },
  {
   "cell_type": "code",
   "execution_count": 7,
   "metadata": {},
   "outputs": [
    {
     "data": {
      "application/vnd.jupyter.widget-view+json": {
       "model_id": "5607bad4dcdd4eb09207c9929f4479ff",
       "version_major": 2,
       "version_minor": 0
      },
      "text/plain": [
       "config.json:   0%|          | 0.00/1.00k [00:00<?, ?B/s]"
      ]
     },
     "metadata": {},
     "output_type": "display_data"
    },
    {
     "data": {
      "application/vnd.jupyter.widget-view+json": {
       "model_id": "a815b00498bf4878b0253cbf005e06bf",
       "version_major": 2,
       "version_minor": 0
      },
      "text/plain": [
       "tf_model.h5:   0%|          | 0.00/329M [00:00<?, ?B/s]"
      ]
     },
     "metadata": {},
     "output_type": "display_data"
    },
    {
     "name": "stderr",
     "output_type": "stream",
     "text": [
      "2025-03-13 18:42:44.909448: I metal_plugin/src/device/metal_device.cc:1154] Metal device set to: Apple M2\n",
      "2025-03-13 18:42:44.910456: I metal_plugin/src/device/metal_device.cc:296] systemMemory: 16.00 GB\n",
      "2025-03-13 18:42:44.910484: I metal_plugin/src/device/metal_device.cc:313] maxCacheSize: 5.33 GB\n",
      "WARNING: All log messages before absl::InitializeLog() is called are written to STDERR\n",
      "I0000 00:00:1741891364.911561  992471 pluggable_device_factory.cc:305] Could not identify NUMA node of platform GPU ID 0, defaulting to 0. Your kernel may not have been built with NUMA support.\n",
      "I0000 00:00:1741891364.911838  992471 pluggable_device_factory.cc:271] Created TensorFlow device (/job:localhost/replica:0/task:0/device:GPU:0 with 0 MB memory) -> physical PluggableDevice (device: 0, name: METAL, pci bus id: <undefined>)\n",
      "All model checkpoint layers were used when initializing TFRobertaForSequenceClassification.\n",
      "\n",
      "All the layers of TFRobertaForSequenceClassification were initialized from the model checkpoint at j-hartmann/emotion-english-distilroberta-base.\n",
      "If your task is similar to the task the model of the checkpoint was trained on, you can already use TFRobertaForSequenceClassification for predictions without further training.\n"
     ]
    },
    {
     "data": {
      "application/vnd.jupyter.widget-view+json": {
       "model_id": "823f4786a4114f80881b72002015fed9",
       "version_major": 2,
       "version_minor": 0
      },
      "text/plain": [
       "tokenizer_config.json:   0%|          | 0.00/294 [00:00<?, ?B/s]"
      ]
     },
     "metadata": {},
     "output_type": "display_data"
    },
    {
     "data": {
      "application/vnd.jupyter.widget-view+json": {
       "model_id": "e8cdcf00441a48edb571765c983b3879",
       "version_major": 2,
       "version_minor": 0
      },
      "text/plain": [
       "vocab.json:   0%|          | 0.00/798k [00:00<?, ?B/s]"
      ]
     },
     "metadata": {},
     "output_type": "display_data"
    },
    {
     "data": {
      "application/vnd.jupyter.widget-view+json": {
       "model_id": "b3e65f0088c64d43bb5876496e2ed186",
       "version_major": 2,
       "version_minor": 0
      },
      "text/plain": [
       "merges.txt:   0%|          | 0.00/456k [00:00<?, ?B/s]"
      ]
     },
     "metadata": {},
     "output_type": "display_data"
    },
    {
     "data": {
      "application/vnd.jupyter.widget-view+json": {
       "model_id": "e6497e54698448dd90d15d1345c142c0",
       "version_major": 2,
       "version_minor": 0
      },
      "text/plain": [
       "tokenizer.json:   0%|          | 0.00/1.36M [00:00<?, ?B/s]"
      ]
     },
     "metadata": {},
     "output_type": "display_data"
    },
    {
     "data": {
      "application/vnd.jupyter.widget-view+json": {
       "model_id": "8f776437709a4fee9c1471869b4cad07",
       "version_major": 2,
       "version_minor": 0
      },
      "text/plain": [
       "special_tokens_map.json:   0%|          | 0.00/239 [00:00<?, ?B/s]"
      ]
     },
     "metadata": {},
     "output_type": "display_data"
    },
    {
     "name": "stderr",
     "output_type": "stream",
     "text": [
      "Device set to use 0\n",
      "/Users/chibuikeiwuchukwu/Docs/ML_Project/nlp_projects/nlp-env/lib/python3.12/site-packages/transformers/pipelines/text_classification.py:106: UserWarning: `return_all_scores` is now deprecated,  if want a similar functionality use `top_k=None` instead of `return_all_scores=True` or `top_k=1` instead of `return_all_scores=False`.\n",
      "  warnings.warn(\n"
     ]
    }
   ],
   "source": [
    "# load a fine-tuned llm text classification model\n",
    "classifier = pipeline(\"text-classification\", model=\"j-hartmann/emotion-english-distilroberta-base\", return_all_scores=True)"
   ]
  },
  {
   "cell_type": "code",
   "execution_count": null,
   "metadata": {},
   "outputs": [],
   "source": [
    "# examine a sample sequence - since the first description is quite long we can split it to enabl the model predict an accurate\n",
    "# emotion\n",
    "sequence = df['description'][0].split('.')"
   ]
  },
  {
   "cell_type": "code",
   "execution_count": 12,
   "metadata": {},
   "outputs": [
    {
     "data": {
      "text/plain": [
       "['A NOVEL THAT READERS and critics have been eagerly anticipating for over a decade, Gilead is an astonishingly imagined story of remarkable lives',\n",
       " ' John Ames is a preacher, the son of a preacher and the grandson (both maternal and paternal) of preachers',\n",
       " ' It’s 1956 in Gilead, Iowa, towards the end of the Reverend Ames’s life, and he is absorbed in recording his family’s story, a legacy for the young son he will never see grow up',\n",
       " ' Haunted by his grandfather’s presence, John tells of the rift between his grandfather and his father: the elder, an angry visionary who fought for the abolitionist cause, and his son, an ardent pacifist',\n",
       " ' He is troubled, too, by his prodigal namesake, Jack (John Ames) Boughton, his best friend’s lost son who returns to Gilead searching for forgiveness and redemption',\n",
       " ' Told in John Ames’s joyous, rambling voice that finds beauty, humour and truth in the smallest of life’s details, Gilead is a song of celebration and acceptance of the best and the worst the world has to offer',\n",
       " ' At its heart is a tale of the sacred bonds between fathers and sons, pitch-perfect in style and story, set to dazzle critics and readers alike',\n",
       " '']"
      ]
     },
     "execution_count": 12,
     "metadata": {},
     "output_type": "execute_result"
    }
   ],
   "source": [
    "sequence"
   ]
  },
  {
   "cell_type": "code",
   "execution_count": 11,
   "metadata": {},
   "outputs": [
    {
     "data": {
      "text/plain": [
       "[[{'label': 'anger', 'score': 0.009156346321105957},\n",
       "  {'label': 'disgust', 'score': 0.0026284735649824142},\n",
       "  {'label': 'fear', 'score': 0.06816209107637405},\n",
       "  {'label': 'joy', 'score': 0.04794241860508919},\n",
       "  {'label': 'neutral', 'score': 0.140385240316391},\n",
       "  {'label': 'sadness', 'score': 0.0021221591159701347},\n",
       "  {'label': 'surprise', 'score': 0.7296032905578613}],\n",
       " [{'label': 'anger', 'score': 0.040478236973285675},\n",
       "  {'label': 'disgust', 'score': 0.27359116077423096},\n",
       "  {'label': 'fear', 'score': 0.006879059132188559},\n",
       "  {'label': 'joy', 'score': 0.10908257216215134},\n",
       "  {'label': 'neutral', 'score': 0.44937148690223694},\n",
       "  {'label': 'sadness', 'score': 0.09362729638814926},\n",
       "  {'label': 'surprise', 'score': 0.026970157399773598}],\n",
       " [{'label': 'anger', 'score': 0.011031879112124443},\n",
       "  {'label': 'disgust', 'score': 0.043422598391771317},\n",
       "  {'label': 'fear', 'score': 0.014084081165492535},\n",
       "  {'label': 'joy', 'score': 0.014211437664926052},\n",
       "  {'label': 'neutral', 'score': 0.6462158560752869},\n",
       "  {'label': 'sadness', 'score': 0.2427336424589157},\n",
       "  {'label': 'surprise', 'score': 0.028300505131483078}],\n",
       " [{'label': 'anger', 'score': 0.032190654426813126},\n",
       "  {'label': 'disgust', 'score': 0.008431793190538883},\n",
       "  {'label': 'fear', 'score': 0.928168535232544},\n",
       "  {'label': 'joy', 'score': 0.0010455816518515348},\n",
       "  {'label': 'neutral', 'score': 0.012808681465685368},\n",
       "  {'label': 'sadness', 'score': 0.008756843395531178},\n",
       "  {'label': 'surprise', 'score': 0.008597861975431442}],\n",
       " [{'label': 'anger', 'score': 0.0018428893527016044},\n",
       "  {'label': 'disgust', 'score': 0.006480598822236061},\n",
       "  {'label': 'fear', 'score': 0.005393998231738806},\n",
       "  {'label': 'joy', 'score': 0.0017338788602501154},\n",
       "  {'label': 'neutral', 'score': 0.015104164369404316},\n",
       "  {'label': 'sadness', 'score': 0.9671575427055359},\n",
       "  {'label': 'surprise', 'score': 0.002286941045895219}],\n",
       " [{'label': 'anger', 'score': 0.005024985875934362},\n",
       "  {'label': 'disgust', 'score': 0.0377173088490963},\n",
       "  {'label': 'fear', 'score': 0.0005423076217994094},\n",
       "  {'label': 'joy', 'score': 0.9327978491783142},\n",
       "  {'label': 'neutral', 'score': 0.01589188165962696},\n",
       "  {'label': 'sadness', 'score': 0.0064445193856954575},\n",
       "  {'label': 'surprise', 'score': 0.0015812069177627563}],\n",
       " [{'label': 'anger', 'score': 0.004821306094527245},\n",
       "  {'label': 'disgust', 'score': 0.0065122065134346485},\n",
       "  {'label': 'fear', 'score': 0.003529016859829426},\n",
       "  {'label': 'joy', 'score': 0.6528698205947876},\n",
       "  {'label': 'neutral', 'score': 0.25427553057670593},\n",
       "  {'label': 'sadness', 'score': 0.009908984415233135},\n",
       "  {'label': 'surprise', 'score': 0.06808315962553024}],\n",
       " [{'label': 'anger', 'score': 0.06413356214761734},\n",
       "  {'label': 'disgust', 'score': 0.1040065810084343},\n",
       "  {'label': 'fear', 'score': 0.05136275663971901},\n",
       "  {'label': 'joy', 'score': 0.04056438058614731},\n",
       "  {'label': 'neutral', 'score': 0.5494771003723145},\n",
       "  {'label': 'sadness', 'score': 0.11169012635946274},\n",
       "  {'label': 'surprise', 'score': 0.07876547425985336}]]"
      ]
     },
     "execution_count": 11,
     "metadata": {},
     "output_type": "execute_result"
    }
   ],
   "source": [
    "result = classifier(sequence)\n",
    "result"
   ]
  },
  {
   "cell_type": "code",
   "execution_count": 64,
   "metadata": {},
   "outputs": [],
   "source": [
    "def compute_the_max_emotion_scores(predictions):\n",
    "\n",
    "    emotion_labels = ['anger', 'disgust', 'fear', 'joy', 'neutral', 'sadness', 'surprise']\n",
    "    per_emotion_score = {label: [] for label in emotion_labels}\n",
    "\n",
    "    for results in predictions:\n",
    "        sorted_predictions =  sorted(results, key= lambda x: x['label'])\n",
    "        for index, label in enumerate(emotion_labels):\n",
    "            per_emotion_score[label].append(sorted_predictions[index]['score'])\n",
    "\n",
    "    return {label: np.max(scores) for label, scores in per_emotion_score.items()}"
   ]
  },
  {
   "cell_type": "code",
   "execution_count": 65,
   "metadata": {},
   "outputs": [
    {
     "data": {
      "text/plain": [
       "{'anger': 0.06413356214761734,\n",
       " 'disgust': 0.27359116077423096,\n",
       " 'fear': 0.928168535232544,\n",
       " 'joy': 0.9327978491783142,\n",
       " 'neutral': 0.6462158560752869,\n",
       " 'sadness': 0.9671575427055359,\n",
       " 'surprise': 0.7296032905578613}"
      ]
     },
     "execution_count": 65,
     "metadata": {},
     "output_type": "execute_result"
    }
   ],
   "source": [
    "emotions_score_dict = compute_the_max_emotion_scores(result)\n",
    "emotions_score_dict"
   ]
  },
  {
   "cell_type": "code",
   "execution_count": 66,
   "metadata": {},
   "outputs": [],
   "source": [
    "from tqdm import tqdm"
   ]
  },
  {
   "cell_type": "code",
   "execution_count": 69,
   "metadata": {},
   "outputs": [
    {
     "name": "stderr",
     "output_type": "stream",
     "text": [
      "100%|██████████| 10/10 [00:08<00:00,  1.21it/s]\n"
     ]
    }
   ],
   "source": [
    "emotion_labels = ['anger', 'disgust', 'fear', 'joy', 'neutral', 'sadness', 'surprise']\n",
    "emotion_scores = {label: [] for label in emotion_labels}\n",
    "\n",
    "# selected a few records and return their emotional sentiments\n",
    "num_of_records = 10\n",
    "isbn = []\n",
    "for _ in tqdm(range(num_of_records)):\n",
    "    isbn.append(df['isbn13'][_])\n",
    "    sentence = df['description'][_].split('.')\n",
    "    pred = classifier(sentence)\n",
    "    scores = compute_the_max_emotion_scores(pred)\n",
    "    for label in emotion_labels:\n",
    "        emotion_scores[label].append(scores[label])"
   ]
  },
  {
   "cell_type": "code",
   "execution_count": 70,
   "metadata": {},
   "outputs": [
    {
     "data": {
      "text/plain": [
       "{'anger': [0.06413356214761734,\n",
       "  0.612618088722229,\n",
       "  0.06413356214761734,\n",
       "  0.35148385167121887,\n",
       "  0.08141220360994339,\n",
       "  0.23222456872463226,\n",
       "  0.5381852984428406,\n",
       "  0.06413356214761734,\n",
       "  0.30067068338394165,\n",
       "  0.06413356214761734],\n",
       " 'disgust': [0.27359116077423096,\n",
       "  0.34828609228134155,\n",
       "  0.1040065810084343,\n",
       "  0.1507224142551422,\n",
       "  0.18449489772319794,\n",
       "  0.7271750569343567,\n",
       "  0.15585501492023468,\n",
       "  0.1040065810084343,\n",
       "  0.2794811725616455,\n",
       "  0.1779274046421051],\n",
       " 'fear': [0.928168535232544,\n",
       "  0.942527711391449,\n",
       "  0.9723208546638489,\n",
       "  0.3607065975666046,\n",
       "  0.09504332393407822,\n",
       "  0.05136275663971901,\n",
       "  0.7474286556243896,\n",
       "  0.404496967792511,\n",
       "  0.9155242443084717,\n",
       "  0.05136275663971901],\n",
       " 'joy': [0.9327978491783142,\n",
       "  0.7044218182563782,\n",
       "  0.7672367691993713,\n",
       "  0.2518808841705322,\n",
       "  0.04056438058614731,\n",
       "  0.04337581619620323,\n",
       "  0.8725653886795044,\n",
       "  0.04056438058614731,\n",
       "  0.04056438058614731,\n",
       "  0.04056438058614731],\n",
       " 'neutral': [0.6462158560752869,\n",
       "  0.8879395127296448,\n",
       "  0.5494771003723145,\n",
       "  0.7326859831809998,\n",
       "  0.8843891620635986,\n",
       "  0.6213928461074829,\n",
       "  0.7121945023536682,\n",
       "  0.5494771003723145,\n",
       "  0.8402897119522095,\n",
       "  0.8603723645210266],\n",
       " 'sadness': [0.9671575427055359,\n",
       "  0.11169012635946274,\n",
       "  0.11169012635946274,\n",
       "  0.11169012635946274,\n",
       "  0.47588086128234863,\n",
       "  0.11169012635946274,\n",
       "  0.4079988896846771,\n",
       "  0.8202822804450989,\n",
       "  0.354459285736084,\n",
       "  0.11169012635946274],\n",
       " 'surprise': [0.7296032905578613,\n",
       "  0.252544641494751,\n",
       "  0.07876547425985336,\n",
       "  0.07876547425985336,\n",
       "  0.07876547425985336,\n",
       "  0.27190256118774414,\n",
       "  0.07876547425985336,\n",
       "  0.23448731005191803,\n",
       "  0.13561488687992096,\n",
       "  0.07876547425985336]}"
      ]
     },
     "execution_count": 70,
     "metadata": {},
     "output_type": "execute_result"
    }
   ],
   "source": [
    "emotion_scores"
   ]
  },
  {
   "cell_type": "code",
   "execution_count": 71,
   "metadata": {},
   "outputs": [
    {
     "data": {
      "text/html": [
       "<div>\n",
       "<style scoped>\n",
       "    .dataframe tbody tr th:only-of-type {\n",
       "        vertical-align: middle;\n",
       "    }\n",
       "\n",
       "    .dataframe tbody tr th {\n",
       "        vertical-align: top;\n",
       "    }\n",
       "\n",
       "    .dataframe thead th {\n",
       "        text-align: right;\n",
       "    }\n",
       "</style>\n",
       "<table border=\"1\" class=\"dataframe\">\n",
       "  <thead>\n",
       "    <tr style=\"text-align: right;\">\n",
       "      <th></th>\n",
       "      <th>anger</th>\n",
       "      <th>disgust</th>\n",
       "      <th>fear</th>\n",
       "      <th>joy</th>\n",
       "      <th>neutral</th>\n",
       "      <th>sadness</th>\n",
       "      <th>surprise</th>\n",
       "      <th>isbn13</th>\n",
       "    </tr>\n",
       "  </thead>\n",
       "  <tbody>\n",
       "    <tr>\n",
       "      <th>0</th>\n",
       "      <td>0.064134</td>\n",
       "      <td>0.273591</td>\n",
       "      <td>0.928169</td>\n",
       "      <td>0.932798</td>\n",
       "      <td>0.646216</td>\n",
       "      <td>0.967158</td>\n",
       "      <td>0.729603</td>\n",
       "      <td>9780002005883</td>\n",
       "    </tr>\n",
       "    <tr>\n",
       "      <th>1</th>\n",
       "      <td>0.612618</td>\n",
       "      <td>0.348286</td>\n",
       "      <td>0.942528</td>\n",
       "      <td>0.704422</td>\n",
       "      <td>0.887940</td>\n",
       "      <td>0.111690</td>\n",
       "      <td>0.252545</td>\n",
       "      <td>9780002261982</td>\n",
       "    </tr>\n",
       "    <tr>\n",
       "      <th>2</th>\n",
       "      <td>0.064134</td>\n",
       "      <td>0.104007</td>\n",
       "      <td>0.972321</td>\n",
       "      <td>0.767237</td>\n",
       "      <td>0.549477</td>\n",
       "      <td>0.111690</td>\n",
       "      <td>0.078765</td>\n",
       "      <td>9780006178736</td>\n",
       "    </tr>\n",
       "    <tr>\n",
       "      <th>3</th>\n",
       "      <td>0.351484</td>\n",
       "      <td>0.150722</td>\n",
       "      <td>0.360707</td>\n",
       "      <td>0.251881</td>\n",
       "      <td>0.732686</td>\n",
       "      <td>0.111690</td>\n",
       "      <td>0.078765</td>\n",
       "      <td>9780006280897</td>\n",
       "    </tr>\n",
       "    <tr>\n",
       "      <th>4</th>\n",
       "      <td>0.081412</td>\n",
       "      <td>0.184495</td>\n",
       "      <td>0.095043</td>\n",
       "      <td>0.040564</td>\n",
       "      <td>0.884389</td>\n",
       "      <td>0.475881</td>\n",
       "      <td>0.078765</td>\n",
       "      <td>9780006280934</td>\n",
       "    </tr>\n",
       "  </tbody>\n",
       "</table>\n",
       "</div>"
      ],
      "text/plain": [
       "      anger   disgust      fear       joy   neutral   sadness  surprise  \\\n",
       "0  0.064134  0.273591  0.928169  0.932798  0.646216  0.967158  0.729603   \n",
       "1  0.612618  0.348286  0.942528  0.704422  0.887940  0.111690  0.252545   \n",
       "2  0.064134  0.104007  0.972321  0.767237  0.549477  0.111690  0.078765   \n",
       "3  0.351484  0.150722  0.360707  0.251881  0.732686  0.111690  0.078765   \n",
       "4  0.081412  0.184495  0.095043  0.040564  0.884389  0.475881  0.078765   \n",
       "\n",
       "          isbn13  \n",
       "0  9780002005883  \n",
       "1  9780002261982  \n",
       "2  9780006178736  \n",
       "3  9780006280897  \n",
       "4  9780006280934  "
      ]
     },
     "execution_count": 71,
     "metadata": {},
     "output_type": "execute_result"
    }
   ],
   "source": [
    "# creating a dataframe\n",
    "emotions_df = pd.DataFrame(emotion_scores)\n",
    "emotions_df['isbn13'] =  isbn\n",
    "emotions_df.head()"
   ]
  },
  {
   "cell_type": "code",
   "execution_count": 72,
   "metadata": {},
   "outputs": [
    {
     "data": {
      "text/html": [
       "<div>\n",
       "<style scoped>\n",
       "    .dataframe tbody tr th:only-of-type {\n",
       "        vertical-align: middle;\n",
       "    }\n",
       "\n",
       "    .dataframe tbody tr th {\n",
       "        vertical-align: top;\n",
       "    }\n",
       "\n",
       "    .dataframe thead th {\n",
       "        text-align: right;\n",
       "    }\n",
       "</style>\n",
       "<table border=\"1\" class=\"dataframe\">\n",
       "  <thead>\n",
       "    <tr style=\"text-align: right;\">\n",
       "      <th></th>\n",
       "      <th>isbn13</th>\n",
       "      <th>categories</th>\n",
       "      <th>description</th>\n",
       "      <th>title_subtitle</th>\n",
       "      <th>tagged_desc</th>\n",
       "      <th>anger</th>\n",
       "      <th>disgust</th>\n",
       "      <th>fear</th>\n",
       "      <th>joy</th>\n",
       "      <th>neutral</th>\n",
       "      <th>sadness</th>\n",
       "      <th>surprise</th>\n",
       "    </tr>\n",
       "  </thead>\n",
       "  <tbody>\n",
       "    <tr>\n",
       "      <th>0</th>\n",
       "      <td>9780002005883</td>\n",
       "      <td>Fiction</td>\n",
       "      <td>A NOVEL THAT READERS and critics have been eag...</td>\n",
       "      <td>Gilead</td>\n",
       "      <td>9780002005883 A NOVEL THAT READERS and critics...</td>\n",
       "      <td>0.064134</td>\n",
       "      <td>0.273591</td>\n",
       "      <td>0.928169</td>\n",
       "      <td>0.932798</td>\n",
       "      <td>0.646216</td>\n",
       "      <td>0.967158</td>\n",
       "      <td>0.729603</td>\n",
       "    </tr>\n",
       "    <tr>\n",
       "      <th>1</th>\n",
       "      <td>9780002261982</td>\n",
       "      <td>Detective and mystery stories</td>\n",
       "      <td>A new 'Christie for Christmas' -- a full-lengt...</td>\n",
       "      <td>Spider's Web:A Novel</td>\n",
       "      <td>9780002261982 A new 'Christie for Christmas' -...</td>\n",
       "      <td>0.612618</td>\n",
       "      <td>0.348286</td>\n",
       "      <td>0.942528</td>\n",
       "      <td>0.704422</td>\n",
       "      <td>0.887940</td>\n",
       "      <td>0.111690</td>\n",
       "      <td>0.252545</td>\n",
       "    </tr>\n",
       "    <tr>\n",
       "      <th>2</th>\n",
       "      <td>9780006178736</td>\n",
       "      <td>Fiction</td>\n",
       "      <td>A memorable, mesmerizing heroine Jennifer -- b...</td>\n",
       "      <td>Rage of angels</td>\n",
       "      <td>9780006178736 A memorable, mesmerizing heroine...</td>\n",
       "      <td>0.064134</td>\n",
       "      <td>0.104007</td>\n",
       "      <td>0.972321</td>\n",
       "      <td>0.767237</td>\n",
       "      <td>0.549477</td>\n",
       "      <td>0.111690</td>\n",
       "      <td>0.078765</td>\n",
       "    </tr>\n",
       "    <tr>\n",
       "      <th>3</th>\n",
       "      <td>9780006280897</td>\n",
       "      <td>Christian life</td>\n",
       "      <td>Lewis' work on the nature of love divides love...</td>\n",
       "      <td>The Four Loves</td>\n",
       "      <td>9780006280897 Lewis' work on the nature of lov...</td>\n",
       "      <td>0.351484</td>\n",
       "      <td>0.150722</td>\n",
       "      <td>0.360707</td>\n",
       "      <td>0.251881</td>\n",
       "      <td>0.732686</td>\n",
       "      <td>0.111690</td>\n",
       "      <td>0.078765</td>\n",
       "    </tr>\n",
       "    <tr>\n",
       "      <th>4</th>\n",
       "      <td>9780006280934</td>\n",
       "      <td>Christian life</td>\n",
       "      <td>\"In The Problem of Pain, C.S. Lewis, one of th...</td>\n",
       "      <td>The Problem of Pain</td>\n",
       "      <td>9780006280934 \"In The Problem of Pain, C.S. Le...</td>\n",
       "      <td>0.081412</td>\n",
       "      <td>0.184495</td>\n",
       "      <td>0.095043</td>\n",
       "      <td>0.040564</td>\n",
       "      <td>0.884389</td>\n",
       "      <td>0.475881</td>\n",
       "      <td>0.078765</td>\n",
       "    </tr>\n",
       "  </tbody>\n",
       "</table>\n",
       "</div>"
      ],
      "text/plain": [
       "          isbn13                     categories  \\\n",
       "0  9780002005883                        Fiction   \n",
       "1  9780002261982  Detective and mystery stories   \n",
       "2  9780006178736                        Fiction   \n",
       "3  9780006280897                 Christian life   \n",
       "4  9780006280934                 Christian life   \n",
       "\n",
       "                                         description        title_subtitle  \\\n",
       "0  A NOVEL THAT READERS and critics have been eag...                Gilead   \n",
       "1  A new 'Christie for Christmas' -- a full-lengt...  Spider's Web:A Novel   \n",
       "2  A memorable, mesmerizing heroine Jennifer -- b...        Rage of angels   \n",
       "3  Lewis' work on the nature of love divides love...        The Four Loves   \n",
       "4  \"In The Problem of Pain, C.S. Lewis, one of th...   The Problem of Pain   \n",
       "\n",
       "                                         tagged_desc     anger   disgust  \\\n",
       "0  9780002005883 A NOVEL THAT READERS and critics...  0.064134  0.273591   \n",
       "1  9780002261982 A new 'Christie for Christmas' -...  0.612618  0.348286   \n",
       "2  9780006178736 A memorable, mesmerizing heroine...  0.064134  0.104007   \n",
       "3  9780006280897 Lewis' work on the nature of lov...  0.351484  0.150722   \n",
       "4  9780006280934 \"In The Problem of Pain, C.S. Le...  0.081412  0.184495   \n",
       "\n",
       "       fear       joy   neutral   sadness  surprise  \n",
       "0  0.928169  0.932798  0.646216  0.967158  0.729603  \n",
       "1  0.942528  0.704422  0.887940  0.111690  0.252545  \n",
       "2  0.972321  0.767237  0.549477  0.111690  0.078765  \n",
       "3  0.360707  0.251881  0.732686  0.111690  0.078765  \n",
       "4  0.095043  0.040564  0.884389  0.475881  0.078765  "
      ]
     },
     "execution_count": 72,
     "metadata": {},
     "output_type": "execute_result"
    }
   ],
   "source": [
    "# merging the emotions_df to the original df\n",
    "df = pd.merge(df, emotions_df, on='isbn13')\n",
    "df.head()"
   ]
  },
  {
   "cell_type": "code",
   "execution_count": null,
   "metadata": {},
   "outputs": [],
   "source": []
  }
 ],
 "metadata": {
  "kernelspec": {
   "display_name": "nlp-env",
   "language": "python",
   "name": "python3"
  },
  "language_info": {
   "codemirror_mode": {
    "name": "ipython",
    "version": 3
   },
   "file_extension": ".py",
   "mimetype": "text/x-python",
   "name": "python",
   "nbconvert_exporter": "python",
   "pygments_lexer": "ipython3",
   "version": "3.12.7"
  }
 },
 "nbformat": 4,
 "nbformat_minor": 2
}
