{
 "cells": [
  {
   "cell_type": "code",
   "execution_count": 2,
   "metadata": {},
   "outputs": [],
   "source": [
    "from transformers import pipeline"
   ]
  },
  {
   "cell_type": "code",
   "execution_count": 3,
   "metadata": {},
   "outputs": [
    {
     "name": "stdout",
     "output_type": "stream",
     "text": [
      "\u001b[31mSignature:\u001b[39m\n",
      "pipeline(\n",
      "    task: str = \u001b[38;5;28;01mNone\u001b[39;00m,\n",
      "    model: Union[str, ForwardRef(\u001b[33m'PreTrainedModel'\u001b[39m), ForwardRef(\u001b[33m'TFPreTrainedModel'\u001b[39m), NoneType] = \u001b[38;5;28;01mNone\u001b[39;00m,\n",
      "    config: Union[str, transformers.configuration_utils.PretrainedConfig, NoneType] = \u001b[38;5;28;01mNone\u001b[39;00m,\n",
      "    tokenizer: Union[str, transformers.tokenization_utils.PreTrainedTokenizer, ForwardRef(\u001b[33m'PreTrainedTokenizerFast'\u001b[39m), NoneType] = \u001b[38;5;28;01mNone\u001b[39;00m,\n",
      "    feature_extractor: Union[str, ForwardRef(\u001b[33m'SequenceFeatureExtractor'\u001b[39m), NoneType] = \u001b[38;5;28;01mNone\u001b[39;00m,\n",
      "    image_processor: Union[str, transformers.image_processing_utils.BaseImageProcessor, NoneType] = \u001b[38;5;28;01mNone\u001b[39;00m,\n",
      "    processor: Union[str, transformers.processing_utils.ProcessorMixin, NoneType] = \u001b[38;5;28;01mNone\u001b[39;00m,\n",
      "    framework: Optional[str] = \u001b[38;5;28;01mNone\u001b[39;00m,\n",
      "    revision: Optional[str] = \u001b[38;5;28;01mNone\u001b[39;00m,\n",
      "    use_fast: bool = \u001b[38;5;28;01mTrue\u001b[39;00m,\n",
      "    token: Union[bool, str, NoneType] = \u001b[38;5;28;01mNone\u001b[39;00m,\n",
      "    device: Union[int, str, ForwardRef(\u001b[33m'torch.device'\u001b[39m), NoneType] = \u001b[38;5;28;01mNone\u001b[39;00m,\n",
      "    device_map=\u001b[38;5;28;01mNone\u001b[39;00m,\n",
      "    torch_dtype=\u001b[38;5;28;01mNone\u001b[39;00m,\n",
      "    trust_remote_code: Optional[bool] = \u001b[38;5;28;01mNone\u001b[39;00m,\n",
      "    model_kwargs: Dict[str, Any] = \u001b[38;5;28;01mNone\u001b[39;00m,\n",
      "    pipeline_class: Optional[Any] = \u001b[38;5;28;01mNone\u001b[39;00m,\n",
      "    **kwargs,\n",
      ") -> transformers.pipelines.base.Pipeline\n",
      "\u001b[31mDocstring:\u001b[39m\n",
      "Utility factory method to build a [`Pipeline`].\n",
      "\n",
      "A pipeline consists of:\n",
      "\n",
      "    - One or more components for pre-processing model inputs, such as a [tokenizer](tokenizer),\n",
      "    [image_processor](image_processor), [feature_extractor](feature_extractor), or [processor](processors).\n",
      "    - A [model](model) that generates predictions from the inputs.\n",
      "    - Optional post-processing steps to refine the model's output, which can also be handled by processors.\n",
      "\n",
      "<Tip>\n",
      "While there are such optional arguments as `tokenizer`, `feature_extractor`, `image_processor`, and `processor`,\n",
      "they shouldn't be specified all at once. If these components are not provided, `pipeline` will try to load\n",
      "required ones automatically. In case you want to provide these components explicitly, please refer to a\n",
      "specific pipeline in order to get more details regarding what components are required.\n",
      "</Tip>\n",
      "\n",
      "Args:\n",
      "    task (`str`):\n",
      "        The task defining which pipeline will be returned. Currently accepted tasks are:\n",
      "\n",
      "        - `\"audio-classification\"`: will return a [`AudioClassificationPipeline`].\n",
      "        - `\"automatic-speech-recognition\"`: will return a [`AutomaticSpeechRecognitionPipeline`].\n",
      "        - `\"depth-estimation\"`: will return a [`DepthEstimationPipeline`].\n",
      "        - `\"document-question-answering\"`: will return a [`DocumentQuestionAnsweringPipeline`].\n",
      "        - `\"feature-extraction\"`: will return a [`FeatureExtractionPipeline`].\n",
      "        - `\"fill-mask\"`: will return a [`FillMaskPipeline`]:.\n",
      "        - `\"image-classification\"`: will return a [`ImageClassificationPipeline`].\n",
      "        - `\"image-feature-extraction\"`: will return an [`ImageFeatureExtractionPipeline`].\n",
      "        - `\"image-segmentation\"`: will return a [`ImageSegmentationPipeline`].\n",
      "        - `\"image-text-to-text\"`: will return a [`ImageTextToTextPipeline`].\n",
      "        - `\"image-to-image\"`: will return a [`ImageToImagePipeline`].\n",
      "        - `\"image-to-text\"`: will return a [`ImageToTextPipeline`].\n",
      "        - `\"mask-generation\"`: will return a [`MaskGenerationPipeline`].\n",
      "        - `\"object-detection\"`: will return a [`ObjectDetectionPipeline`].\n",
      "        - `\"question-answering\"`: will return a [`QuestionAnsweringPipeline`].\n",
      "        - `\"summarization\"`: will return a [`SummarizationPipeline`].\n",
      "        - `\"table-question-answering\"`: will return a [`TableQuestionAnsweringPipeline`].\n",
      "        - `\"text2text-generation\"`: will return a [`Text2TextGenerationPipeline`].\n",
      "        - `\"text-classification\"` (alias `\"sentiment-analysis\"` available): will return a\n",
      "          [`TextClassificationPipeline`].\n",
      "        - `\"text-generation\"`: will return a [`TextGenerationPipeline`]:.\n",
      "        - `\"text-to-audio\"` (alias `\"text-to-speech\"` available): will return a [`TextToAudioPipeline`]:.\n",
      "        - `\"token-classification\"` (alias `\"ner\"` available): will return a [`TokenClassificationPipeline`].\n",
      "        - `\"translation\"`: will return a [`TranslationPipeline`].\n",
      "        - `\"translation_xx_to_yy\"`: will return a [`TranslationPipeline`].\n",
      "        - `\"video-classification\"`: will return a [`VideoClassificationPipeline`].\n",
      "        - `\"visual-question-answering\"`: will return a [`VisualQuestionAnsweringPipeline`].\n",
      "        - `\"zero-shot-classification\"`: will return a [`ZeroShotClassificationPipeline`].\n",
      "        - `\"zero-shot-image-classification\"`: will return a [`ZeroShotImageClassificationPipeline`].\n",
      "        - `\"zero-shot-audio-classification\"`: will return a [`ZeroShotAudioClassificationPipeline`].\n",
      "        - `\"zero-shot-object-detection\"`: will return a [`ZeroShotObjectDetectionPipeline`].\n",
      "\n",
      "    model (`str` or [`PreTrainedModel`] or [`TFPreTrainedModel`], *optional*):\n",
      "        The model that will be used by the pipeline to make predictions. This can be a model identifier or an\n",
      "        actual instance of a pretrained model inheriting from [`PreTrainedModel`] (for PyTorch) or\n",
      "        [`TFPreTrainedModel`] (for TensorFlow).\n",
      "\n",
      "        If not provided, the default for the `task` will be loaded.\n",
      "    config (`str` or [`PretrainedConfig`], *optional*):\n",
      "        The configuration that will be used by the pipeline to instantiate the model. This can be a model\n",
      "        identifier or an actual pretrained model configuration inheriting from [`PretrainedConfig`].\n",
      "\n",
      "        If not provided, the default configuration file for the requested model will be used. That means that if\n",
      "        `model` is given, its default configuration will be used. However, if `model` is not supplied, this\n",
      "        `task`'s default model's config is used instead.\n",
      "    tokenizer (`str` or [`PreTrainedTokenizer`], *optional*):\n",
      "        The tokenizer that will be used by the pipeline to encode data for the model. This can be a model\n",
      "        identifier or an actual pretrained tokenizer inheriting from [`PreTrainedTokenizer`].\n",
      "\n",
      "        If not provided, the default tokenizer for the given `model` will be loaded (if it is a string). If `model`\n",
      "        is not specified or not a string, then the default tokenizer for `config` is loaded (if it is a string).\n",
      "        However, if `config` is also not given or not a string, then the default tokenizer for the given `task`\n",
      "        will be loaded.\n",
      "    feature_extractor (`str` or [`PreTrainedFeatureExtractor`], *optional*):\n",
      "        The feature extractor that will be used by the pipeline to encode data for the model. This can be a model\n",
      "        identifier or an actual pretrained feature extractor inheriting from [`PreTrainedFeatureExtractor`].\n",
      "\n",
      "        Feature extractors are used for non-NLP models, such as Speech or Vision models as well as multi-modal\n",
      "        models. Multi-modal models will also require a tokenizer to be passed.\n",
      "\n",
      "        If not provided, the default feature extractor for the given `model` will be loaded (if it is a string). If\n",
      "        `model` is not specified or not a string, then the default feature extractor for `config` is loaded (if it\n",
      "        is a string). However, if `config` is also not given or not a string, then the default feature extractor\n",
      "        for the given `task` will be loaded.\n",
      "    image_processor (`str` or [`BaseImageProcessor`], *optional*):\n",
      "        The image processor that will be used by the pipeline to preprocess images for the model. This can be a\n",
      "        model identifier or an actual image processor inheriting from [`BaseImageProcessor`].\n",
      "\n",
      "        Image processors are used for Vision models and multi-modal models that require image inputs. Multi-modal\n",
      "        models will also require a tokenizer to be passed.\n",
      "\n",
      "        If not provided, the default image processor for the given `model` will be loaded (if it is a string). If\n",
      "        `model` is not specified or not a string, then the default image processor for `config` is loaded (if it is\n",
      "        a string).\n",
      "    processor (`str` or [`ProcessorMixin`], *optional*):\n",
      "        The processor that will be used by the pipeline to preprocess data for the model. This can be a model\n",
      "        identifier or an actual processor inheriting from [`ProcessorMixin`].\n",
      "\n",
      "        Processors are used for multi-modal models that require multi-modal inputs, for example, a model that\n",
      "        requires both text and image inputs.\n",
      "\n",
      "        If not provided, the default processor for the given `model` will be loaded (if it is a string). If `model`\n",
      "        is not specified or not a string, then the default processor for `config` is loaded (if it is a string).\n",
      "    framework (`str`, *optional*):\n",
      "        The framework to use, either `\"pt\"` for PyTorch or `\"tf\"` for TensorFlow. The specified framework must be\n",
      "        installed.\n",
      "\n",
      "        If no framework is specified, will default to the one currently installed. If no framework is specified and\n",
      "        both frameworks are installed, will default to the framework of the `model`, or to PyTorch if no model is\n",
      "        provided.\n",
      "    revision (`str`, *optional*, defaults to `\"main\"`):\n",
      "        When passing a task name or a string model identifier: The specific model version to use. It can be a\n",
      "        branch name, a tag name, or a commit id, since we use a git-based system for storing models and other\n",
      "        artifacts on huggingface.co, so `revision` can be any identifier allowed by git.\n",
      "    use_fast (`bool`, *optional*, defaults to `True`):\n",
      "        Whether or not to use a Fast tokenizer if possible (a [`PreTrainedTokenizerFast`]).\n",
      "    use_auth_token (`str` or *bool*, *optional*):\n",
      "        The token to use as HTTP bearer authorization for remote files. If `True`, will use the token generated\n",
      "        when running `huggingface-cli login` (stored in `~/.huggingface`).\n",
      "    device (`int` or `str` or `torch.device`):\n",
      "        Defines the device (*e.g.*, `\"cpu\"`, `\"cuda:1\"`, `\"mps\"`, or a GPU ordinal rank like `1`) on which this\n",
      "        pipeline will be allocated.\n",
      "    device_map (`str` or `Dict[str, Union[int, str, torch.device]`, *optional*):\n",
      "        Sent directly as `model_kwargs` (just a simpler shortcut). When `accelerate` library is present, set\n",
      "        `device_map=\"auto\"` to compute the most optimized `device_map` automatically (see\n",
      "        [here](https://huggingface.co/docs/accelerate/main/en/package_reference/big_modeling#accelerate.cpu_offload)\n",
      "        for more information).\n",
      "\n",
      "        <Tip warning={true}>\n",
      "\n",
      "        Do not use `device_map` AND `device` at the same time as they will conflict\n",
      "\n",
      "        </Tip>\n",
      "\n",
      "    torch_dtype (`str` or `torch.dtype`, *optional*):\n",
      "        Sent directly as `model_kwargs` (just a simpler shortcut) to use the available precision for this model\n",
      "        (`torch.float16`, `torch.bfloat16`, ... or `\"auto\"`).\n",
      "    trust_remote_code (`bool`, *optional*, defaults to `False`):\n",
      "        Whether or not to allow for custom code defined on the Hub in their own modeling, configuration,\n",
      "        tokenization or even pipeline files. This option should only be set to `True` for repositories you trust\n",
      "        and in which you have read the code, as it will execute code present on the Hub on your local machine.\n",
      "    model_kwargs (`Dict[str, Any]`, *optional*):\n",
      "        Additional dictionary of keyword arguments passed along to the model's `from_pretrained(...,\n",
      "        **model_kwargs)` function.\n",
      "    kwargs (`Dict[str, Any]`, *optional*):\n",
      "        Additional keyword arguments passed along to the specific pipeline init (see the documentation for the\n",
      "        corresponding pipeline class for possible values).\n",
      "\n",
      "Returns:\n",
      "    [`Pipeline`]: A suitable pipeline for the task.\n",
      "\n",
      "Examples:\n",
      "\n",
      "```python\n",
      ">>> from transformers import pipeline, AutoModelForTokenClassification, AutoTokenizer\n",
      "\n",
      ">>> # Sentiment analysis pipeline\n",
      ">>> analyzer = pipeline(\"sentiment-analysis\")\n",
      "\n",
      ">>> # Question answering pipeline, specifying the checkpoint identifier\n",
      ">>> oracle = pipeline(\n",
      "...     \"question-answering\", model=\"distilbert/distilbert-base-cased-distilled-squad\", tokenizer=\"google-bert/bert-base-cased\"\n",
      "... )\n",
      "\n",
      ">>> # Named entity recognition pipeline, passing in a specific model and tokenizer\n",
      ">>> model = AutoModelForTokenClassification.from_pretrained(\"dbmdz/bert-large-cased-finetuned-conll03-english\")\n",
      ">>> tokenizer = AutoTokenizer.from_pretrained(\"google-bert/bert-base-cased\")\n",
      ">>> recognizer = pipeline(\"ner\", model=model, tokenizer=tokenizer)\n",
      "```\n",
      "\u001b[31mFile:\u001b[39m      ~/Docs/ML_Project/nlp_projects/.venv/lib/python3.12/site-packages/transformers/pipelines/__init__.py\n",
      "\u001b[31mType:\u001b[39m      function"
     ]
    }
   ],
   "source": [
    "pipeline?"
   ]
  },
  {
   "cell_type": "code",
   "execution_count": 4,
   "metadata": {},
   "outputs": [
    {
     "name": "stderr",
     "output_type": "stream",
     "text": [
      "No model was supplied, defaulted to openai-community/gpt2 and revision 607a30d (https://huggingface.co/openai-community/gpt2).\n",
      "Using a pipeline without specifying a model name and revision in production is not recommended.\n"
     ]
    },
    {
     "data": {
      "application/vnd.jupyter.widget-view+json": {
       "model_id": "81b6c514cbe64d9eb8932e0502b439a4",
       "version_major": 2,
       "version_minor": 0
      },
      "text/plain": [
       "config.json:   0%|          | 0.00/665 [00:00<?, ?B/s]"
      ]
     },
     "metadata": {},
     "output_type": "display_data"
    },
    {
     "data": {
      "application/vnd.jupyter.widget-view+json": {
       "model_id": "757baa76e2424654937b4b7c8659183a",
       "version_major": 2,
       "version_minor": 0
      },
      "text/plain": [
       "model.safetensors:   0%|          | 0.00/548M [00:00<?, ?B/s]"
      ]
     },
     "metadata": {},
     "output_type": "display_data"
    },
    {
     "name": "stderr",
     "output_type": "stream",
     "text": [
      "2025-04-16 16:32:57.562066: I metal_plugin/src/device/metal_device.cc:1154] Metal device set to: Apple M2\n",
      "2025-04-16 16:32:57.562126: I metal_plugin/src/device/metal_device.cc:296] systemMemory: 16.00 GB\n",
      "2025-04-16 16:32:57.562144: I metal_plugin/src/device/metal_device.cc:313] maxCacheSize: 5.33 GB\n",
      "WARNING: All log messages before absl::InitializeLog() is called are written to STDERR\n",
      "I0000 00:00:1744817577.562726 8310970 pluggable_device_factory.cc:305] Could not identify NUMA node of platform GPU ID 0, defaulting to 0. Your kernel may not have been built with NUMA support.\n",
      "I0000 00:00:1744817577.562804 8310970 pluggable_device_factory.cc:271] Created TensorFlow device (/job:localhost/replica:0/task:0/device:GPU:0 with 0 MB memory) -> physical PluggableDevice (device: 0, name: METAL, pci bus id: <undefined>)\n",
      "All PyTorch model weights were used when initializing TFGPT2LMHeadModel.\n",
      "\n",
      "All the weights of TFGPT2LMHeadModel were initialized from the PyTorch model.\n",
      "If your task is similar to the task the model of the checkpoint was trained on, you can already use TFGPT2LMHeadModel for predictions without further training.\n"
     ]
    },
    {
     "data": {
      "application/vnd.jupyter.widget-view+json": {
       "model_id": "b0bbfa4030794016875151a6e7d65fda",
       "version_major": 2,
       "version_minor": 0
      },
      "text/plain": [
       "tokenizer_config.json:   0%|          | 0.00/26.0 [00:00<?, ?B/s]"
      ]
     },
     "metadata": {},
     "output_type": "display_data"
    },
    {
     "data": {
      "application/vnd.jupyter.widget-view+json": {
       "model_id": "e661c936476e427b96f9124317f9082f",
       "version_major": 2,
       "version_minor": 0
      },
      "text/plain": [
       "vocab.json:   0%|          | 0.00/1.04M [00:00<?, ?B/s]"
      ]
     },
     "metadata": {},
     "output_type": "display_data"
    },
    {
     "data": {
      "application/vnd.jupyter.widget-view+json": {
       "model_id": "6939380dbb4340bcac06c4c0d50855a4",
       "version_major": 2,
       "version_minor": 0
      },
      "text/plain": [
       "merges.txt:   0%|          | 0.00/456k [00:00<?, ?B/s]"
      ]
     },
     "metadata": {},
     "output_type": "display_data"
    },
    {
     "data": {
      "application/vnd.jupyter.widget-view+json": {
       "model_id": "004c04be13184c4b927ecb9d9bfe4881",
       "version_major": 2,
       "version_minor": 0
      },
      "text/plain": [
       "tokenizer.json:   0%|          | 0.00/1.36M [00:00<?, ?B/s]"
      ]
     },
     "metadata": {},
     "output_type": "display_data"
    },
    {
     "name": "stderr",
     "output_type": "stream",
     "text": [
      "Device set to use 0\n"
     ]
    }
   ],
   "source": [
    "generator = pipeline('text-generation')"
   ]
  },
  {
   "cell_type": "code",
   "execution_count": 6,
   "metadata": {},
   "outputs": [
    {
     "name": "stderr",
     "output_type": "stream",
     "text": [
      "Truncation was not explicitly activated but `max_length` is provided a specific value, please use `truncation=True` to explicitly truncate examples to max length. Defaulting to 'longest_first' truncation strategy. If you encode pairs of sequences (GLUE-style) with the tokenizer you can select this strategy more precisely by providing a specific strategy to `truncation`.\n"
     ]
    },
    {
     "data": {
      "text/plain": [
       "[{'generated_text': \"I believe I can... But I'm not up\"},\n",
       " {'generated_text': 'I believe I can... let my friends and family'},\n",
       " {'generated_text': 'I believe I can... (Chuckles) Yes'},\n",
       " {'generated_text': 'I believe I can... well, if... what'}]"
      ]
     },
     "execution_count": 6,
     "metadata": {},
     "output_type": "execute_result"
    }
   ],
   "source": [
    "generator('I believe I can...', num_return_sequences=4, max_length=10)"
   ]
  },
  {
   "cell_type": "code",
   "execution_count": 1,
   "metadata": {},
   "outputs": [],
   "source": [
    "from smolagents import CodeAgent"
   ]
  },
  {
   "cell_type": "code",
   "execution_count": null,
   "metadata": {},
   "outputs": [],
   "source": []
  }
 ],
 "metadata": {
  "kernelspec": {
   "display_name": ".venv",
   "language": "python",
   "name": "python3"
  },
  "language_info": {
   "codemirror_mode": {
    "name": "ipython",
    "version": 3
   },
   "file_extension": ".py",
   "mimetype": "text/x-python",
   "name": "python",
   "nbconvert_exporter": "python",
   "pygments_lexer": "ipython3",
   "version": "3.12.7"
  }
 },
 "nbformat": 4,
 "nbformat_minor": 2
}
